{
 "cells": [
  {
   "cell_type": "markdown",
   "id": "4041923c-4b3c-4096-81ec-988d65fa9a00",
   "metadata": {},
   "source": [
    "## Notebook Setup"
   ]
  },
  {
   "cell_type": "code",
   "execution_count": null,
   "id": "367c1a1c-69cc-4ba0-90ad-236b50a99996",
   "metadata": {
    "tags": []
   },
   "outputs": [],
   "source": [
    "# Check what version of CUDA we are working with\n",
    "!nvidia-smi"
   ]
  },
  {
   "cell_type": "code",
   "execution_count": null,
   "id": "7cb0ba86-8ba2-4d53-856e-247dc1d24bfb",
   "metadata": {
    "tags": []
   },
   "outputs": [],
   "source": [
    "# Installs any missing prerequisites\n",
    "\n",
    "%cd /home/hcytt1/sicnn-experiments/pytorch-gconv-experiments/GrouPy\n",
    "!python setup.py install\n",
    "\n",
    "# IMPORTANT: The kernel used with this notebook ran on CUDA 11.6. \n",
    "# Please consult with the PyTorch website to install the correct version of PyTorch and CUDA for your kernel!\n",
    "!pip install torch==1.13.1+cu116 torchvision==0.14.1+cu116 torchaudio==0.13.1 --extra-index-url https://download.pytorch.org/whl/cu116\n",
    "\n",
    "!pip install numpy\n",
    "!pip install matplotlib\n",
    "!pip install pandas\n",
    "!pip install scipy"
   ]
  },
  {
   "cell_type": "markdown",
   "id": "37958e19-6f5f-488e-8eaa-c86e282069f4",
   "metadata": {},
   "source": [
    "## Testing and Evaluation"
   ]
  },
  {
   "cell_type": "code",
   "execution_count": null,
   "id": "436fa653-2b81-4ba9-8271-d13e18378924",
   "metadata": {
    "tags": []
   },
   "outputs": [
    {
     "name": "stdout",
     "output_type": "stream",
     "text": [
      "/home/hcytt1/sicnn-experiments\n",
      "hermite scales [2.6, 2.166666666666667, 1.8055555555555556, 1.50462962962963]\n",
      "hermite scales [2.76, 2.3, 1.9166666666666665, 1.5972222222222223]\n",
      "hermite scales [2.94, 2.45, 2.0416666666666665, 1.701388888888889]\n",
      "hermite scales [3.12, 2.6, 2.166666666666667, 1.8055555555555558]\n",
      "hermite scales [2.6, 2.166666666666667, 1.8055555555555556, 1.50462962962963]\n",
      "hermite scales [2.76, 2.3, 1.9166666666666665, 1.5972222222222223]\n",
      "hermite scales [2.94, 2.45, 2.0416666666666665, 1.701388888888889]\n",
      "hermite scales [3.12, 2.6, 2.166666666666667, 1.8055555555555558]\n",
      "hermite scales [2.6, 2.166666666666667, 1.8055555555555556, 1.50462962962963]\n",
      "hermite scales [2.76, 2.3, 1.9166666666666665, 1.5972222222222223]\n",
      "hermite scales [2.94, 2.45, 2.0416666666666665, 1.701388888888889]\n",
      "hermite scales [3.12, 2.6, 2.166666666666667, 1.8055555555555558]\n",
      "\n",
      "Model:\n",
      "MNIST_SES_V(\n",
      "  (main): Sequential(\n",
      "    (0): SESConv_Z2_H(1->32 | scales=[2.6, 2.76, 2.94, 3.12] | size=19)\n",
      "    (1): ReLU(inplace=True)\n",
      "    (2): MaxPool3d(kernel_size=[1, 2, 2], stride=[1, 2, 2], padding=0, dilation=1, ceil_mode=False)\n",
      "    (3): BatchNorm3d(32, eps=1e-05, momentum=0.1, affine=True, track_running_stats=True)\n",
      "    (4): SESConv_H_H(32->63 | scales=[2.6, 2.76, 2.94, 3.12] | size=19)\n",
      "    (5): ReLU(inplace=True)\n",
      "    (6): MaxPool3d(kernel_size=[1, 2, 2], stride=[1, 2, 2], padding=0, dilation=1, ceil_mode=False)\n",
      "    (7): BatchNorm3d(63, eps=1e-05, momentum=0.1, affine=True, track_running_stats=True)\n",
      "    (8): SESConv_H_H(63->95 | scales=[2.6, 2.76, 2.94, 3.12] | size=19)\n",
      "    (9): SESMaxProjection()\n",
      "    (10): ReLU(inplace=True)\n",
      "    (11): MaxPool2d(kernel_size=32, stride=32, padding=2, dilation=1, ceil_mode=False)\n",
      "    (12): BatchNorm2d(95, eps=1e-05, momentum=0.1, affine=True, track_running_stats=True)\n",
      "  )\n",
      "  (linear): Sequential(\n",
      "    (0): Linear(in_features=95, out_features=256, bias=False)\n",
      "    (1): BatchNorm1d(256, eps=1e-05, momentum=0.1, affine=True, track_running_stats=True)\n",
      "    (2): ReLU(inplace=True)\n",
      "    (3): Dropout(p=0.7, inplace=False)\n",
      "    (4): Linear(in_features=256, out_features=2, bias=True)\n",
      "  )\n",
      ")\n",
      "Device: cuda\n",
      "CUDNN is enabled. CUDNN benchmark is enabled\n",
      "num_params: 419533\n",
      "\n",
      "Adam (\n",
      "Parameter Group 0\n",
      "    amsgrad: False\n",
      "    betas: (0.9, 0.999)\n",
      "    capturable: False\n",
      "    differentiable: False\n",
      "    eps: 1e-08\n",
      "    foreach: None\n",
      "    fused: False\n",
      "    lr: 0.01\n",
      "    maximize: False\n",
      "    weight_decay: 0\n",
      ")\n",
      "\n",
      "Training\n",
      "------------------------------\n"
     ]
    }
   ],
   "source": [
    "## VGG16 Testing and Evaluation\n",
    "%matplotlib inline\n",
    "\n",
    "%cd /home/hcytt1/sicnn-experiments\n",
    "from main import main\n",
    "\n",
    "main()"
   ]
  },
  {
   "cell_type": "code",
   "execution_count": null,
   "id": "1de36979-3cb4-413b-8376-286ccf96a86e",
   "metadata": {},
   "outputs": [],
   "source": []
  }
 ],
 "metadata": {
  "kernelspec": {
   "display_name": "Python 3.7 GPU_1G_5GB_1",
   "language": "python",
   "name": "python37gpu_1_5_1"
  },
  "language_info": {
   "codemirror_mode": {
    "name": "ipython",
    "version": 3
   },
   "file_extension": ".py",
   "mimetype": "text/x-python",
   "name": "python",
   "nbconvert_exporter": "python",
   "pygments_lexer": "ipython3",
   "version": "3.7.13"
  }
 },
 "nbformat": 4,
 "nbformat_minor": 5
}
